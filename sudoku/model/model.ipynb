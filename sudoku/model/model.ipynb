{
 "cells": [
  {
   "cell_type": "code",
   "execution_count": 2,
   "metadata": {},
   "outputs": [],
   "source": [
    "import numpy as np\n",
    "import pandas as pd\n",
    "import cv2"
   ]
  },
  {
   "cell_type": "code",
   "execution_count": 31,
   "metadata": {},
   "outputs": [],
   "source": [
    "df1 = pd.read_csv('TMNIST_Data.csv')\n",
    "df1 = df1.drop(['names'], axis=1)\n",
    "df2 = pd.read_csv('MNIST_Data.csv')\n",
    "cols = list(range(1,785))\n",
    "df1.columns = ['labels'] + cols\n",
    "df2.columns = ['labels'] + cols\n",
    "df = pd.concat([df1, df2])"
   ]
  },
  {
   "cell_type": "code",
   "execution_count": 53,
   "metadata": {},
   "outputs": [
    {
     "data": {
      "text/plain": [
       "((29900, 785), (42000, 785))"
      ]
     },
     "execution_count": 53,
     "metadata": {},
     "output_type": "execute_result"
    }
   ],
   "source": [
    "df1.shape, df2.shape, df.shape"
   ]
  },
  {
   "cell_type": "code",
   "execution_count": 54,
   "metadata": {},
   "outputs": [],
   "source": [
    "X = df.drop(['labels'], axis=1).values\n",
    "Y = df['labels'].values"
   ]
  },
  {
   "cell_type": "code",
   "execution_count": 55,
   "metadata": {},
   "outputs": [],
   "source": [
    "X = X / 255.0\n",
    "X = X.reshape(-1, 28, 28, 1)"
   ]
  },
  {
   "cell_type": "code",
   "execution_count": 57,
   "metadata": {},
   "outputs": [],
   "source": [
    "from keras.utils.np_utils import to_categorical\n",
    "Y = to_categorical(Y)"
   ]
  },
  {
   "cell_type": "code",
   "execution_count": 58,
   "metadata": {},
   "outputs": [],
   "source": [
    "from sklearn.model_selection import train_test_split\n",
    "X_train, X_test, Y_train, Y_test = train_test_split(X, Y, test_size=0.2, random_state=0)"
   ]
  },
  {
   "cell_type": "code",
   "execution_count": 59,
   "metadata": {},
   "outputs": [
    {
     "data": {
      "image/png": "[encoded data removed]",
      "text/plain": [
       "<Figure size 1440x720 with 4 Axes>"
      ]
     },
     "metadata": {
      "needs_background": "light"
     },
     "output_type": "display_data"
    }
   ],
   "source": [
    "import matplotlib.pyplot as plt\n",
    "\n",
    "x_train = X_train.reshape(X_train.shape[0], 28, 28)\n",
    "fig, axis = plt.subplots(1, 4, figsize=(20,10))\n",
    "for i, ax in enumerate(axis.flat):\n",
    "    ax.imshow(x_train[i], cmap='binary')\n",
    "    digit = Y_train[i].argmax()\n",
    "    ax.set(title=f\"Actual : {digit}\")"
   ]
  },
  {
   "cell_type": "code",
   "execution_count": 60,
   "metadata": {},
   "outputs": [],
   "source": [
    "import tensorflow as tf\n",
    "from keras.models import Sequential\n",
    "from keras.layers import Dense\n",
    "from keras.layers import Dropout\n",
    "from keras.layers import Flatten\n",
    "from keras.callbacks import EarlyStopping\n",
    "from keras.layers.convolutional import Conv2D\n",
    "from keras.layers.convolutional import MaxPooling2D\n",
    "from keras.utils import np_utils\n",
    "\n",
    "model = Sequential()\n",
    "model.add(Conv2D(32,(4,4),input_shape = (28,28,1),activation = 'relu'))\n",
    "model.add(MaxPooling2D(pool_size=(2,2)))\n",
    "model.add(Conv2D(64,(3,3),activation = 'relu'))\n",
    "model.add(MaxPooling2D(pool_size=(2,2)))\n",
    "model.add(Dropout(0.2))\n",
    "model.add(Flatten())\n",
    "model.add(Dense(128,activation='relu'))\n",
    "model.add(Dense(50, activation='relu'))\n",
    "model.add(Dense(10, activation='softmax'))\n",
    "model.compile(loss='categorical_crossentropy', optimizer='adam',metrics=['accuracy'])"
   ]
  },
  {
   "cell_type": "code",
   "execution_count": 61,
   "metadata": {},
   "outputs": [
    {
     "name": "stdout",
     "output_type": "stream",
     "text": [
      "Model: \"sequential_2\"\n",
      "_________________________________________________________________\n",
      " Layer (type)                Output Shape              Param #   \n",
      "=================================================================\n",
      " conv2d_3 (Conv2D)           (None, 25, 25, 32)        544       \n",
      "                                                                 \n",
      " max_pooling2d_3 (MaxPooling  (None, 12, 12, 32)       0         \n",
      " 2D)                                                             \n",
      "                                                                 \n",
      " conv2d_4 (Conv2D)           (None, 10, 10, 64)        18496     \n",
      "                                                                 \n",
      " max_pooling2d_4 (MaxPooling  (None, 5, 5, 64)         0         \n",
      " 2D)                                                             \n",
      "                                                                 \n",
      " dropout_1 (Dropout)         (None, 5, 5, 64)          0         \n",
      "                                                                 \n",
      " flatten_2 (Flatten)         (None, 1600)              0         \n",
      "                                                                 \n",
      " dense_5 (Dense)             (None, 128)               204928    \n",
      "                                                                 \n",
      " dense_6 (Dense)             (None, 50)                6450      \n",
      "                                                                 \n",
      " dense_7 (Dense)             (None, 10)                510       \n",
      "                                                                 \n",
      "=================================================================\n",
      "Total params: 230,928\n",
      "Trainable params: 230,928\n",
      "Non-trainable params: 0\n",
      "_________________________________________________________________\n"
     ]
    }
   ],
   "source": [
    "model.summary()"
   ]
  },
  {
   "cell_type": "code",
   "execution_count": 62,
   "metadata": {},
   "outputs": [
    {
     "name": "stdout",
     "output_type": "stream",
     "text": [
      "Epoch 1/30\n",
      "501/501 - 14s - loss: 0.2410 - accuracy: 0.9252 - val_loss: 0.0813 - val_accuracy: 0.9763 - 14s/epoch - 28ms/step\n",
      "Epoch 2/30\n",
      "501/501 - 13s - loss: 0.0741 - accuracy: 0.9779 - val_loss: 0.0590 - val_accuracy: 0.9826 - 13s/epoch - 26ms/step\n",
      "Epoch 3/30\n",
      "501/501 - 14s - loss: 0.0528 - accuracy: 0.9841 - val_loss: 0.0684 - val_accuracy: 0.9805 - 14s/epoch - 29ms/step\n",
      "Epoch 4/30\n",
      "501/501 - 14s - loss: 0.0422 - accuracy: 0.9874 - val_loss: 0.0485 - val_accuracy: 0.9864 - 14s/epoch - 28ms/step\n",
      "Epoch 5/30\n",
      "501/501 - 14s - loss: 0.0351 - accuracy: 0.9894 - val_loss: 0.0420 - val_accuracy: 0.9878 - 14s/epoch - 28ms/step\n",
      "Epoch 6/30\n",
      "501/501 - 12s - loss: 0.0288 - accuracy: 0.9909 - val_loss: 0.0421 - val_accuracy: 0.9872 - 12s/epoch - 25ms/step\n",
      "Epoch 7/30\n",
      "501/501 - 15s - loss: 0.0248 - accuracy: 0.9918 - val_loss: 0.0447 - val_accuracy: 0.9873 - 15s/epoch - 29ms/step\n",
      "Epoch 8/30\n",
      "501/501 - 12s - loss: 0.0253 - accuracy: 0.9917 - val_loss: 0.0412 - val_accuracy: 0.9891 - 12s/epoch - 24ms/step\n",
      "Epoch 9/30\n",
      "501/501 - 12s - loss: 0.0202 - accuracy: 0.9935 - val_loss: 0.0390 - val_accuracy: 0.9893 - 12s/epoch - 24ms/step\n",
      "Epoch 10/30\n",
      "501/501 - 11s - loss: 0.0189 - accuracy: 0.9940 - val_loss: 0.0424 - val_accuracy: 0.9890 - 11s/epoch - 23ms/step\n",
      "Epoch 11/30\n",
      "501/501 - 11s - loss: 0.0171 - accuracy: 0.9946 - val_loss: 0.0428 - val_accuracy: 0.9891 - 11s/epoch - 23ms/step\n",
      "Epoch 12/30\n",
      "501/501 - 12s - loss: 0.0153 - accuracy: 0.9949 - val_loss: 0.0416 - val_accuracy: 0.9888 - 12s/epoch - 24ms/step\n",
      "Epoch 13/30\n",
      "501/501 - 13s - loss: 0.0131 - accuracy: 0.9955 - val_loss: 0.0493 - val_accuracy: 0.9884 - 13s/epoch - 26ms/step\n",
      "Epoch 14/30\n",
      "501/501 - 14s - loss: 0.0130 - accuracy: 0.9958 - val_loss: 0.0466 - val_accuracy: 0.9889 - 14s/epoch - 28ms/step\n",
      "Epoch 15/30\n",
      "501/501 - 13s - loss: 0.0108 - accuracy: 0.9965 - val_loss: 0.0417 - val_accuracy: 0.9892 - 13s/epoch - 25ms/step\n",
      "Epoch 16/30\n",
      "501/501 - 11s - loss: 0.0096 - accuracy: 0.9969 - val_loss: 0.0487 - val_accuracy: 0.9896 - 11s/epoch - 23ms/step\n",
      "Epoch 17/30\n",
      "501/501 - 12s - loss: 0.0115 - accuracy: 0.9962 - val_loss: 0.0484 - val_accuracy: 0.9891 - 12s/epoch - 24ms/step\n",
      "Epoch 18/30\n",
      "501/501 - 12s - loss: 0.0119 - accuracy: 0.9958 - val_loss: 0.0501 - val_accuracy: 0.9883 - 12s/epoch - 24ms/step\n",
      "Epoch 19/30\n",
      "501/501 - 11s - loss: 0.0088 - accuracy: 0.9970 - val_loss: 0.0513 - val_accuracy: 0.9885 - 11s/epoch - 23ms/step\n",
      "Epoch 20/30\n",
      "501/501 - 11s - loss: 0.0086 - accuracy: 0.9972 - val_loss: 0.0563 - val_accuracy: 0.9884 - 11s/epoch - 23ms/step\n",
      "Epoch 21/30\n",
      "501/501 - 11s - loss: 0.0069 - accuracy: 0.9977 - val_loss: 0.0485 - val_accuracy: 0.9908 - 11s/epoch - 23ms/step\n",
      "Epoch 22/30\n",
      "501/501 - 11s - loss: 0.0079 - accuracy: 0.9977 - val_loss: 0.0456 - val_accuracy: 0.9906 - 11s/epoch - 22ms/step\n",
      "Epoch 23/30\n",
      "501/501 - 12s - loss: 0.0082 - accuracy: 0.9974 - val_loss: 0.0559 - val_accuracy: 0.9877 - 12s/epoch - 23ms/step\n",
      "Epoch 24/30\n",
      "501/501 - 11s - loss: 0.0065 - accuracy: 0.9977 - val_loss: 0.0547 - val_accuracy: 0.9889 - 11s/epoch - 21ms/step\n",
      "Epoch 25/30\n",
      "501/501 - 11s - loss: 0.0062 - accuracy: 0.9979 - val_loss: 0.0485 - val_accuracy: 0.9909 - 11s/epoch - 22ms/step\n",
      "Epoch 26/30\n",
      "501/501 - 11s - loss: 0.0081 - accuracy: 0.9973 - val_loss: 0.0495 - val_accuracy: 0.9905 - 11s/epoch - 22ms/step\n",
      "Epoch 27/30\n",
      "501/501 - 11s - loss: 0.0052 - accuracy: 0.9981 - val_loss: 0.0494 - val_accuracy: 0.9903 - 11s/epoch - 23ms/step\n",
      "Epoch 28/30\n",
      "501/501 - 11s - loss: 0.0065 - accuracy: 0.9978 - val_loss: 0.0498 - val_accuracy: 0.9905 - 11s/epoch - 22ms/step\n",
      "Epoch 29/30\n",
      "501/501 - 11s - loss: 0.0052 - accuracy: 0.9985 - val_loss: 0.0544 - val_accuracy: 0.9893 - 11s/epoch - 22ms/step\n",
      "Epoch 30/30\n",
      "501/501 - 11s - loss: 0.0066 - accuracy: 0.9980 - val_loss: 0.0509 - val_accuracy: 0.9903 - 11s/epoch - 22ms/step\n"
     ]
    },
    {
     "data": {
      "text/plain": [
       "<keras.callbacks.History at 0x1a180a6f9d0>"
      ]
     },
     "execution_count": 62,
     "metadata": {},
     "output_type": "execute_result"
    }
   ],
   "source": [
    "model.fit(X_train, Y_train, validation_split=0.2, epochs=30, batch_size=92, verbose=2)"
   ]
  },
  {
   "cell_type": "code",
   "execution_count": 63,
   "metadata": {},
   "outputs": [
    {
     "name": "stdout",
     "output_type": "stream",
     "text": [
      "450/450 [==============================] - 1s 3ms/step\n"
     ]
    }
   ],
   "source": [
    "Y_pred = model.predict(X_test)"
   ]
  },
  {
   "cell_type": "code",
   "execution_count": 64,
   "metadata": {},
   "outputs": [],
   "source": [
    "pred = np.array([x.argmax() for x in Y_pred])\n",
    "test = np.array([x.argmax() for x in Y_test])"
   ]
  },
  {
   "cell_type": "code",
   "execution_count": 65,
   "metadata": {},
   "outputs": [
    {
     "data": {
      "text/plain": [
       "141"
      ]
     },
     "execution_count": 65,
     "metadata": {},
     "output_type": "execute_result"
    }
   ],
   "source": [
    "diff = [(x == 0) for x in (pred - test)]\n",
    "len(diff) - np.sum(diff)"
   ]
  },
  {
   "cell_type": "code",
   "execution_count": 67,
   "metadata": {},
   "outputs": [
    {
     "name": "stderr",
     "output_type": "stream",
     "text": [
      "WARNING:absl:Found untraced functions such as _jit_compiled_convolution_op, _jit_compiled_convolution_op while saving (showing 2 of 2). These functions will not be directly callable after loading.\n"
     ]
    },
    {
     "name": "stdout",
     "output_type": "stream",
     "text": [
      "INFO:tensorflow:Assets written to: ./trained_model\\assets\n"
     ]
    },
    {
     "name": "stderr",
     "output_type": "stream",
     "text": [
      "INFO:tensorflow:Assets written to: ./trained_model\\assets\n"
     ]
    }
   ],
   "source": [
    "model.save('./trained_model')"
   ]
  }
 ],
 "metadata": {
  "kernelspec": {
   "display_name": "base",
   "language": "python",
   "name": "python3"
  },
  "language_info": {
   "codemirror_mode": {
    "name": "ipython",
    "version": 3
   },
   "file_extension": ".py",
   "mimetype": "text/x-python",
   "name": "python",
   "nbconvert_exporter": "python",
   "pygments_lexer": "ipython3",
   "version": "3.9.12"
  },
  "orig_nbformat": 4
 },
 "nbformat": 4,
 "nbformat_minor": 2
}
