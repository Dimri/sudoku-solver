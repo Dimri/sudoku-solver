{
 "cells": [
  {
   "cell_type": "code",
   "execution_count": 2,
   "metadata": {},
   "outputs": [],
   "source": [
    "import numpy as np\n",
    "import cv2\n",
    "import os\n",
    "import matplotlib.pyplot as plt\n",
    "import pickle\n",
    "\n",
    "from sklearn.model_selection import train_test_split\n",
    "from tensorflow import keras\n",
    "from keras.preprocessing.image import ImageDataGenerator\n",
    "from keras.utils.np_utils import to_categorical\n",
    "from keras import Sequential\n",
    "from keras.layers import Conv2D, Dense, Flatten, Dropout, MaxPooling2D\n",
    "from keras.optimizers import Adam"
   ]
  },
  {
   "cell_type": "code",
   "execution_count": 3,
   "metadata": {},
   "outputs": [],
   "source": [
    "PATH = 'data'\n",
    "TEST_RATIO = 0.2\n",
    "VAL_RATIO = 0.2\n",
    "IMG_DIM = (28,28,3)"
   ]
  },
  {
   "cell_type": "code",
   "execution_count": 4,
   "metadata": {},
   "outputs": [],
   "source": [
    "def showimage(title, img):\n",
    "    cv2.imshow(title, img)\n",
    "    cv2.waitKey(0)\n",
    "    cv2.destroyAllWindows()"
   ]
  },
  {
   "cell_type": "code",
   "execution_count": 5,
   "metadata": {},
   "outputs": [],
   "source": [
    "def create_model(no_of_classes):\n",
    "    no_of_filters = 60\n",
    "    size_of_filter1 = (5,5)\n",
    "    size_of_filter2 = (3,3)\n",
    "    size_of_pool = (2,2)\n",
    "    no_of_node = 500\n",
    "\n",
    "    model = Sequential()\n",
    "    model.add((Conv2D(no_of_filters, size_of_filter1, input_shape=(IMG_DIM[0], IMG_DIM[1], 1),\n",
    "            activation='relu')))\n",
    "    model.add((Conv2D(no_of_filters, size_of_filter1, activation='relu')))\n",
    "    model.add(MaxPooling2D(pool_size=size_of_pool))\n",
    "    model.add((Conv2D(no_of_filters // 2, size_of_filter2, activation='relu')))\n",
    "    model.add((Conv2D(no_of_filters // 2, size_of_filter2, activation='relu')))\n",
    "    model.add(MaxPooling2D(pool_size=size_of_pool))\n",
    "    model.add(Dropout(0.5))\n",
    "\n",
    "    model.add(Flatten())\n",
    "    model.add(Dense(no_of_node, activation='relu'))\n",
    "    model.add(Dropout(0.5))\n",
    "\n",
    "    model.add(Dense(no_of_classes, activation='softmax'))\n",
    "\n",
    "    model.compile(Adam(learning_rate=0.001), loss='categorical_crossentropy', metrics=['accuracy'])\n",
    "\n",
    "    return model"
   ]
  },
  {
   "cell_type": "code",
   "execution_count": 6,
   "metadata": {},
   "outputs": [
    {
     "name": "stdout",
     "output_type": "stream",
     "text": [
      "Total number of classes : 10\n"
     ]
    }
   ],
   "source": [
    "folder_list = os.listdir(PATH)\n",
    "no_of_classes = len(folder_list)\n",
    "print(f'Total number of classes : {no_of_classes}')\n",
    "images = []\n",
    "classid = []"
   ]
  },
  {
   "cell_type": "code",
   "execution_count": 7,
   "metadata": {},
   "outputs": [
    {
     "name": "stdout",
     "output_type": "stream",
     "text": [
      "Importing classes\n",
      "0 1 2 3 4 5 6 7 8 9 "
     ]
    }
   ],
   "source": [
    "print('Importing classes')\n",
    "for dig in range(no_of_classes):\n",
    "    pic_list_folder = os.listdir(f'{PATH}/{str(dig)}')\n",
    "    for pic in pic_list_folder:\n",
    "        curImg = cv2.imread(f'{PATH}/{str(dig)}/{pic}')\n",
    "        images.append(curImg)\n",
    "        classid.append(dig)\n",
    "    print(dig, end=' ')"
   ]
  },
  {
   "cell_type": "code",
   "execution_count": 8,
   "metadata": {},
   "outputs": [],
   "source": [
    "images = np.array(images)\n",
    "classid = np.array(classid)"
   ]
  },
  {
   "cell_type": "code",
   "execution_count": 9,
   "metadata": {},
   "outputs": [],
   "source": [
    "### Splitting the data\n",
    "X_train, X_test, y_train, y_test = train_test_split(images, classid, test_size=TEST_RATIO)\n",
    "X_train, X_validation, y_train, y_validation = train_test_split(X_train, y_train, test_size=VAL_RATIO)"
   ]
  },
  {
   "cell_type": "code",
   "execution_count": 10,
   "metadata": {},
   "outputs": [],
   "source": [
    "no_of_samples = []\n",
    "for dig in range(no_of_classes):\n",
    "    no_of_samples.append(len(np.where(y_train == dig)[0]))"
   ]
  },
  {
   "cell_type": "code",
   "execution_count": 11,
   "metadata": {},
   "outputs": [
    {
     "data": {
      "image/png": "[encoded data removed]",
      "text/plain": [
       "<Figure size 720x360 with 1 Axes>"
      ]
     },
     "metadata": {
      "needs_background": "light"
     },
     "output_type": "display_data"
    }
   ],
   "source": [
    "fig = plt.figure(figsize=(10,5))\n",
    "plt.bar(range(no_of_classes), no_of_samples)\n",
    "plt.title('Images in each class')\n",
    "plt.xlabel('Class ID')\n",
    "plt.ylabel('Number of Images')\n",
    "plt.xticks(range(no_of_classes))\n",
    "plt.show()"
   ]
  },
  {
   "cell_type": "code",
   "execution_count": 12,
   "metadata": {},
   "outputs": [],
   "source": [
    "def preprocessing(img):\n",
    "    img = cv2.cvtColor(img, cv2.COLOR_BGR2GRAY)\n",
    "    img = cv2.equalizeHist(img)\n",
    "    img = img/255\n",
    "    return img"
   ]
  },
  {
   "cell_type": "code",
   "execution_count": 13,
   "metadata": {},
   "outputs": [],
   "source": [
    "# img = preprocessing(X_train[30])\n",
    "# img = cv2.resize(img, (100,100))\n",
    "# showimage('image', img)"
   ]
  },
  {
   "cell_type": "code",
   "execution_count": 14,
   "metadata": {},
   "outputs": [],
   "source": [
    "X_train = np.array(list(map(preprocessing, X_train)))\n",
    "X_test = np.array(list(map(preprocessing, X_test)))\n",
    "X_validation = np.array(list(map(preprocessing, X_validation)))"
   ]
  },
  {
   "cell_type": "code",
   "execution_count": 15,
   "metadata": {},
   "outputs": [],
   "source": [
    "# change add a depth of 1 to X.shapes eg : (6400, 28, 28) -> (6400, 28, 28, 1)\n",
    "X_train = X_train.reshape(*X_train.shape, 1)\n",
    "X_test = X_test.reshape(*X_test.shape, 1)\n",
    "X_validation = X_validation.reshape(*X_validation.shape, 1)"
   ]
  },
  {
   "cell_type": "code",
   "execution_count": 16,
   "metadata": {},
   "outputs": [],
   "source": [
    "dataGen = ImageDataGenerator(width_shift_range=0.1, height_shift_range=0.1,\n",
    "                                                    zoom_range=0.2, shear_range=0.1, rotation_range=10)"
   ]
  },
  {
   "cell_type": "code",
   "execution_count": 17,
   "metadata": {},
   "outputs": [],
   "source": [
    "dataGen.fit(X_train)"
   ]
  },
  {
   "cell_type": "code",
   "execution_count": 18,
   "metadata": {},
   "outputs": [],
   "source": [
    "y_train = to_categorical(y_train, no_of_classes)\n",
    "y_validation = to_categorical(y_validation, no_of_classes)\n",
    "y_test = to_categorical(y_test, no_of_classes)"
   ]
  },
  {
   "cell_type": "code",
   "execution_count": 19,
   "metadata": {},
   "outputs": [
    {
     "name": "stdout",
     "output_type": "stream",
     "text": [
      "Model: \"sequential\"\n",
      "_________________________________________________________________\n",
      " Layer (type)                Output Shape              Param #   \n",
      "=================================================================\n",
      " conv2d (Conv2D)             (None, 24, 24, 60)        1560      \n",
      "                                                                 \n",
      " conv2d_1 (Conv2D)           (None, 20, 20, 60)        90060     \n",
      "                                                                 \n",
      " max_pooling2d (MaxPooling2D  (None, 10, 10, 60)       0         \n",
      " )                                                               \n",
      "                                                                 \n",
      " conv2d_2 (Conv2D)           (None, 8, 8, 30)          16230     \n",
      "                                                                 \n",
      " conv2d_3 (Conv2D)           (None, 6, 6, 30)          8130      \n",
      "                                                                 \n",
      " max_pooling2d_1 (MaxPooling  (None, 3, 3, 30)         0         \n",
      " 2D)                                                             \n",
      "                                                                 \n",
      " dropout (Dropout)           (None, 3, 3, 30)          0         \n",
      "                                                                 \n",
      " flatten (Flatten)           (None, 270)               0         \n",
      "                                                                 \n",
      " dense (Dense)               (None, 500)               135500    \n",
      "                                                                 \n",
      " dropout_1 (Dropout)         (None, 500)               0         \n",
      "                                                                 \n",
      " dense_1 (Dense)             (None, 10)                5010      \n",
      "                                                                 \n",
      "=================================================================\n",
      "Total params: 256,490\n",
      "Trainable params: 256,490\n",
      "Non-trainable params: 0\n",
      "_________________________________________________________________\n"
     ]
    }
   ],
   "source": [
    "model = create_model(no_of_classes=no_of_classes)\n",
    "model.summary()"
   ]
  },
  {
   "cell_type": "code",
   "execution_count": 25,
   "metadata": {},
   "outputs": [
    {
     "name": "stdout",
     "output_type": "stream",
     "text": [
      "Epoch 1/10\n",
      "128/128 [==============================] - 19s 151ms/step - loss: 0.7840 - accuracy: 0.7467 - val_loss: 0.1668 - val_accuracy: 0.9606\n",
      "Epoch 2/10\n",
      "128/128 [==============================] - 20s 159ms/step - loss: 0.5278 - accuracy: 0.8336 - val_loss: 0.1123 - val_accuracy: 0.9694\n",
      "Epoch 3/10\n",
      "128/128 [==============================] - 20s 155ms/step - loss: 0.4326 - accuracy: 0.8634 - val_loss: 0.1022 - val_accuracy: 0.9706\n",
      "Epoch 4/10\n",
      "128/128 [==============================] - 20s 156ms/step - loss: 0.3772 - accuracy: 0.8838 - val_loss: 0.0905 - val_accuracy: 0.9781\n",
      "Epoch 5/10\n",
      "128/128 [==============================] - 19s 146ms/step - loss: 0.3458 - accuracy: 0.8948 - val_loss: 0.0951 - val_accuracy: 0.9750\n",
      "Epoch 6/10\n",
      "128/128 [==============================] - 17s 132ms/step - loss: 0.2864 - accuracy: 0.9111 - val_loss: 0.0731 - val_accuracy: 0.9806\n",
      "Epoch 7/10\n",
      "128/128 [==============================] - 16s 125ms/step - loss: 0.2603 - accuracy: 0.9220 - val_loss: 0.0611 - val_accuracy: 0.9831\n",
      "Epoch 8/10\n",
      "128/128 [==============================] - 17s 135ms/step - loss: 0.2518 - accuracy: 0.9217 - val_loss: 0.0649 - val_accuracy: 0.9825\n",
      "Epoch 9/10\n",
      "128/128 [==============================] - 17s 133ms/step - loss: 0.2339 - accuracy: 0.9270 - val_loss: 0.0502 - val_accuracy: 0.9862\n",
      "Epoch 10/10\n",
      "128/128 [==============================] - 16s 126ms/step - loss: 0.2201 - accuracy: 0.9330 - val_loss: 0.0602 - val_accuracy: 0.9862\n"
     ]
    }
   ],
   "source": [
    "batch_size = 50\n",
    "epochs = 10\n",
    "steps_per_epoch = 128\n",
    "\n",
    "history = model.fit(dataGen.flow(X_train, y_train, batch_size=batch_size), steps_per_epoch=steps_per_epoch,\n",
    "                    epochs=epochs, validation_data=(X_validation, y_validation),\n",
    "                    shuffle=1)"
   ]
  },
  {
   "cell_type": "code",
   "execution_count": 26,
   "metadata": {},
   "outputs": [
    {
     "data": {
      "image/png": "[encoded data removed]",
      "text/plain": [
       "<Figure size 432x288 with 1 Axes>"
      ]
     },
     "metadata": {
      "needs_background": "light"
     },
     "output_type": "display_data"
    },
    {
     "data": {
      "image/png": "[encoded data removed]",
      "text/plain": [
       "<Figure size 432x288 with 1 Axes>"
      ]
     },
     "metadata": {
      "needs_background": "light"
     },
     "output_type": "display_data"
    }
   ],
   "source": [
    "plt.figure(1)\n",
    "plt.plot(history.history['loss'])\n",
    "plt.plot(history.history['val_loss'])\n",
    "plt.title('Loss')\n",
    "plt.legend(['training', 'validation'])\n",
    "plt.xlabel('epoch')\n",
    "plt.xticks(range(epochs))\n",
    "plt.show()\n",
    "plt.figure(2)\n",
    "plt.plot(history.history['accuracy'])\n",
    "plt.plot(history.history['val_accuracy'])\n",
    "plt.title('Accuracy')\n",
    "plt.legend(['training', 'validation'])\n",
    "plt.xlabel('epoch')\n",
    "plt.xticks(range(epochs))\n",
    "plt.show()"
   ]
  },
  {
   "cell_type": "code",
   "execution_count": 27,
   "metadata": {},
   "outputs": [
    {
     "name": "stdout",
     "output_type": "stream",
     "text": [
      "Test score : 0.07365 and Test accuracy : 0.97850\n"
     ]
    }
   ],
   "source": [
    "score = model.evaluate(X_test, y_test, verbose=0)\n",
    "print(f'Test score : {score[0]:.5f} and Test accuracy : {score[1]:.5f}')"
   ]
  },
  {
   "cell_type": "code",
   "execution_count": 28,
   "metadata": {},
   "outputs": [
    {
     "name": "stderr",
     "output_type": "stream",
     "text": [
      "WARNING:absl:Found untraced functions such as _jit_compiled_convolution_op, _jit_compiled_convolution_op, _jit_compiled_convolution_op, _jit_compiled_convolution_op while saving (showing 4 of 4). These functions will not be directly callable after loading.\n"
     ]
    },
    {
     "name": "stdout",
     "output_type": "stream",
     "text": [
      "INFO:tensorflow:Assets written to: ./trained_model\\assets\n"
     ]
    },
    {
     "name": "stderr",
     "output_type": "stream",
     "text": [
      "INFO:tensorflow:Assets written to: ./trained_model\\assets\n"
     ]
    }
   ],
   "source": [
    "model.save('./trained_model')"
   ]
  },
  {
   "cell_type": "code",
   "execution_count": 29,
   "metadata": {},
   "outputs": [
    {
     "name": "stderr",
     "output_type": "stream",
     "text": [
      "WARNING:absl:Found untraced functions such as _jit_compiled_convolution_op, _jit_compiled_convolution_op, _jit_compiled_convolution_op, _jit_compiled_convolution_op while saving (showing 4 of 4). These functions will not be directly callable after loading.\n"
     ]
    },
    {
     "name": "stdout",
     "output_type": "stream",
     "text": [
      "INFO:tensorflow:Assets written to: ram://407dd674-00bc-4d51-998d-4a5496419ac9/assets\n"
     ]
    },
    {
     "name": "stderr",
     "output_type": "stream",
     "text": [
      "INFO:tensorflow:Assets written to: ram://407dd674-00bc-4d51-998d-4a5496419ac9/assets\n"
     ]
    }
   ],
   "source": [
    "with open('trained_model.p', 'wb') as f:\n",
    "    pickle.dump(model, f)"
   ]
  },
  {
   "cell_type": "code",
   "execution_count": null,
   "metadata": {},
   "outputs": [],
   "source": []
  }
 ],
 "metadata": {
  "kernelspec": {
   "display_name": "Python 3.9.12 ('base')",
   "language": "python",
   "name": "python3"
  },
  "language_info": {
   "codemirror_mode": {
    "name": "ipython",
    "version": 3
   },
   "file_extension": ".py",
   "mimetype": "text/x-python",
   "name": "python",
   "nbconvert_exporter": "python",
   "pygments_lexer": "ipython3",
   "version": "3.9.12 (main, Apr  4 2022, 05:22:27) [MSC v.1916 64 bit (AMD64)]"
  },
  "orig_nbformat": 4,
  "vscode": {
   "interpreter": {
    "hash": "1c96efd641c8edc4becd0add2d213e7ec84c37270ea5e51cc70d926f1fea797b"
   }
  }
 },
 "nbformat": 4,
 "nbformat_minor": 2
}
