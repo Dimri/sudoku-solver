{
 "cells": [
  {
   "cell_type": "code",
   "execution_count": 35,
   "metadata": {},
   "outputs": [],
   "source": [
    "import cv2\n",
    "import numpy as np\n",
    "import copy\n",
    "\n",
    "from utils import *\n",
    "WIDTH_IMG = 450\n",
    "HEIGHT_IMG = 450\n",
    "model = prediction_model()\n",
    "#### PREPARE THE IMAGE\n",
    "img = cv2.imread('../sudoku_unsolved.png')\n",
    "img = cv2.resize(img, (WIDTH_IMG, HEIGHT_IMG))\n",
    "imgBlank = np.zeros(img.shape, np.uint8)\n",
    "imgThreshold = preProcess(img)\n",
    "#### FIND THE CONTOURS\n",
    "imgContour = copy.deepcopy(img)\n",
    "imgBigContour = copy.deepcopy(img)\n",
    "imgThresholdcopy = copy.deepcopy(imgThreshold)\n",
    "contours, hierarchy = cv2.findContours(imgThresholdcopy, cv2.RETR_EXTERNAL, cv2.CHAIN_APPROX_SIMPLE)\n",
    "# visualize contours in image\n",
    "cv2.drawContours(imgContour, contours, -1, (0,255,0), 3)\n",
    "showimage('contours', imgContour)\n",
    "#### FIND THE BIGGEST CONTOURS AND USE IT AS SUDOKU\n",
    "biggest, maxArea = biggestContour(contours)\n",
    "biggest = reorder(biggest)\n",
    "cv2.drawContours(imgBigContour, biggest, -1, (0, 0, 255), 10)\n",
    "pts1 = np.float32(biggest)\n",
    "pts2 = np.float32([[0,0],\n",
    "                [WIDTH_IMG, 0],\n",
    "                [0, HEIGHT_IMG],\n",
    "                [WIDTH_IMG, HEIGHT_IMG]])\n",
    "matrix = cv2.getPerspectiveTransform(pts1, pts2)\n",
    "# warp the sudoku frame to occupy full img\n",
    "imgWarpColored = cv2.warpPerspective(img, matrix, (WIDTH_IMG, HEIGHT_IMG))\n",
    "imgDetectedDigits = imgBlank.copy()\n",
    "# grayscale it\n",
    "imgWarpColored = cv2.cvtColor(imgWarpColored, cv2.COLOR_BGR2GRAY)\n",
    "#### SPLIT THE IMAGE AND FIND DIGITS\n",
    "imgSolvedDigits = imgBlank.copy()\n",
    "boxes = splitBoxes(imgWarpColored)\n",
    "numbers = get_prediction(boxes, model)\n",
    "numbers = np.array(numbers)\n",
    "imgDetectedDigits = displaynums(imgDetectedDigits, numbers, color=(255,0,255))\n",
    "showimage('1', np.concatenate((imgDetectedDigits, img), axis=1))"
   ]
  }
 ],
 "metadata": {
  "kernelspec": {
   "display_name": "Python 3.9.12 ('base')",
   "language": "python",
   "name": "python3"
  },
  "language_info": {
   "codemirror_mode": {
    "name": "ipython",
    "version": 3
   },
   "file_extension": ".py",
   "mimetype": "text/x-python",
   "name": "python",
   "nbconvert_exporter": "python",
   "pygments_lexer": "ipython3",
   "version": "3.9.12"
  },
  "orig_nbformat": 4,
  "vscode": {
   "interpreter": {
    "hash": "1c96efd641c8edc4becd0add2d213e7ec84c37270ea5e51cc70d926f1fea797b"
   }
  }
 },
 "nbformat": 4,
 "nbformat_minor": 2
}
